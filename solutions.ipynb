{
 "cells": [
  {
   "cell_type": "markdown",
   "metadata": {},
   "source": [
    "# Exercise 3.4\n",
    "\n",
    "$p(r \\mid s) \\ \\dot{=} \\ \\sum_{s' \\in \\mathcal{S}} \\sum_{a \\in \\mathcal{A}} p(s', r \\mid s, a) \\ \\pi(a \\mid s)$\n",
    "\n",
    "$E_\\pi[R_{t+1} \\mid S_{t}=s] = \\sum_{r \\in \\mathcal{R}} r \\ p(r \\mid s) = \\sum_{r \\in \\mathcal{R}} r \\sum_{s' \\in \\mathcal{S}} \\sum_{a \\in \\mathcal{A}} p(s', r \\mid s, a) \\ \\pi(a \\mid s)$"
   ]
  },
  {
   "cell_type": "code",
   "execution_count": null,
   "metadata": {},
   "outputs": [],
   "source": []
  }
 ],
 "metadata": {
  "kernelspec": {
   "display_name": "Python 3",
   "language": "python",
   "name": "python3"
  },
  "language_info": {
   "codemirror_mode": {
    "name": "ipython",
    "version": 3
   },
   "file_extension": ".py",
   "mimetype": "text/x-python",
   "name": "python",
   "nbconvert_exporter": "python",
   "pygments_lexer": "ipython3",
   "version": "3.6.4"
  }
 },
 "nbformat": 4,
 "nbformat_minor": 2
}
