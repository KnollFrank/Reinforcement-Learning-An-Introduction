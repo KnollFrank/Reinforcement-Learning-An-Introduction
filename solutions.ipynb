{
 "cells": [
  {
   "cell_type": "markdown",
   "metadata": {},
   "source": [
    "# Aufgabe 3.4\n",
    "\n",
    "Nach der Definition von bedingten Wahrscheinlichkeiten gilt:\n",
    "$$p(s', r \\mid s, a) = \\frac{p(s', r, a \\mid s)}{p(a \\mid s)}$$\n",
    "Durch Auflösen dieser Gleichung nach $p(s', r, a \\mid s)$ und Verwenden von $\\pi(a \\mid s) \\mathbin{\\dot{=}} p(a \\mid s)$ gilt:\n",
    "$$p(s', r, a \\mid s) = p(s', r \\mid s, a) \\ \\pi(a \\mid s)$$\n",
    "Mit der Summenregel angewandt auf $s'$ und $a$ gilt:\n",
    "$$p(r \\mid s) =\n",
    "\\sum_{s' \\in \\mathcal{S}} \\sum_{a \\in \\mathcal{A}} p(s', r, a \\mid s) =\n",
    "\\sum_{s' \\in \\mathcal{S}} \\sum_{a \\in \\mathcal{A}} p(s', r \\mid s, a) \\ \\pi(a \\mid s)$$\n",
    "Mit der Definition des Erwartungswertes gilt:\n",
    "$$E_\\pi[R_{t+1} \\mid S_{t}=s] = \\sum_{r \\in \\mathcal{R}} r \\ p(r \\mid s) = \\sum_{r \\in \\mathcal{R}} r \\sum_{s' \\in \\mathcal{S}} \\sum_{a \\in \\mathcal{A}} p(s', r \\mid s, a) \\ \\pi(a \\mid s) \\square$$"
   ]
  },
  {
   "cell_type": "markdown",
   "metadata": {},
   "source": [
    "# Aufgabe 3.10\n",
    "\n",
    "$G_1 \\underset{(3.8)}{=} \\sum_{k=0}^\\infty \\gamma^k R_{k+2} = \\sum_{k=0}^\\infty 0.9^k \\cdot 7 = 7 \\sum_{k=0}^\\infty 0.9^k \\underset{(3.10)}{=} 7 \\frac{1}{1-0.9} = 70$\n",
    "\n",
    "$G_0 \\underset{(3.9)}{=} R_1 + \\gamma G_1 = 2 + 0.9 \\cdot 70 = 65$"
   ]
  },
  {
   "cell_type": "markdown",
   "metadata": {},
   "source": [
    "# Vorbemerkung zur Aufgabe 3.11\n",
    "\n",
    "Sei $S_K \\mathbin{\\dot{=}} \\sum_{k=0}^K k^\\gamma$. Dann gilt $S_K = \\frac{1-\\gamma^{K+1}}{1-\\gamma}$ für $K \\in \\mathbb{N}$\n",
    "\n",
    "## Beweis durch Induktion über K:\n",
    "$K=0$:\n",
    "$S_0 = \\gamma^0 = 1 = \\frac{1-\\gamma^{0+1}}{1-\\gamma}$ $\\square$\n",
    "\n",
    "$K \\rightarrow K+1$:\n",
    "$S_{K+1} =\n",
    "\\sum_{k=0}^{K+1} k^\\gamma = \\sum_{k=0}^K k^\\gamma + \\gamma^{K+1} \\underset{\\text{I.V.}}{=}\n",
    "\\frac{1-\\gamma^{K+1}}{1-\\gamma} + \\gamma^{K+1} =\n",
    "\\frac{1-\\gamma^{K+1}}{1-\\gamma} + \\frac{(1-\\gamma) \\gamma^{K+1}}{1-\\gamma} =\n",
    "\\frac{1 - \\gamma^{K+1} + \\gamma^{K+1} - \\gamma^{K+2}}{1-\\gamma} =\n",
    "\\frac{1-\\gamma^{K+2}}{1-\\gamma} =\n",
    "\\frac{1-\\gamma^{(K+1)+1}}{1-\\gamma}\\square$\n",
    "\n",
    "# Aufgabe 3.11\n",
    "\n",
    "$\\sum_{k=0}^\\infty k^\\gamma = \\frac{1}{1 - \\gamma}$ für $0 \\leq \\gamma < 1$.\n",
    "\n",
    "## Beweis:\n",
    "\n",
    "$\\sum_{k=0}^\\infty k^\\gamma =\n",
    "\\lim_{K \\to \\infty} S_k =\n",
    "\\lim_{K \\to \\infty} \\frac{1-\\gamma^{K+1}}{1-\\gamma} =\n",
    "\\frac{1}{1-\\gamma} \\lim_{K \\to \\infty} (1-\\gamma^{K+1}) =\n",
    "\\frac{1}{1-\\gamma} (1 - \\lim_{K \\to \\infty} \\gamma^{K+1}) =\n",
    "\\frac{1}{1 - \\gamma}$, da $\\lim_{K \\to \\infty} \\gamma^{K+1} = 0$\n",
    "$\\square$"
   ]
  },
  {
   "cell_type": "code",
   "execution_count": null,
   "metadata": {},
   "outputs": [],
   "source": []
  }
 ],
 "metadata": {
  "kernelspec": {
   "display_name": "Python 3",
   "language": "python",
   "name": "python3"
  },
  "language_info": {
   "codemirror_mode": {
    "name": "ipython",
    "version": 3
   },
   "file_extension": ".py",
   "mimetype": "text/x-python",
   "name": "python",
   "nbconvert_exporter": "python",
   "pygments_lexer": "ipython3",
   "version": "3.6.4"
  }
 },
 "nbformat": 4,
 "nbformat_minor": 2
}
