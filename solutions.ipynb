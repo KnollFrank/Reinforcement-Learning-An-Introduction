{
 "cells": [
  {
   "cell_type": "markdown",
   "metadata": {},
   "source": [
    "# Übung 3.4\n",
    "\n",
    "$$p(r \\mid s) \\mathbin{\\dot{=}} \\sum_{s' \\in \\mathcal{S}} \\sum_{a \\in \\mathcal{A}} p(s', r \\mid s, a) \\ \\pi(a \\mid s)$$\n",
    "\n",
    "$$E_\\pi[R_{t+1} \\mid S_{t}=s] = \\sum_{r \\in \\mathcal{R}} r \\ p(r \\mid s) = \\sum_{r \\in \\mathcal{R}} r \\sum_{s' \\in \\mathcal{S}} \\sum_{a \\in \\mathcal{A}} p(s', r \\mid s, a) \\ \\pi(a \\mid s) \\square$$"
   ]
  },
  {
   "cell_type": "markdown",
   "metadata": {},
   "source": [
    "Sei $S_K \\mathbin{\\dot{=}} \\sum_{k=0}^K k^\\gamma$. Dann gilt $S_K = \\frac{1-\\gamma^{K+1}}{1-\\gamma}$ für $K \\in \\mathbb{N}$\n",
    "\n",
    "## Beweis durch Induktion über K:\n",
    "$K=0$:\n",
    "$S_0 = \\gamma^0 = 1 = \\frac{1-\\gamma^{0+1}}{1-\\gamma}$ $\\square$\n",
    "\n",
    "$K \\rightarrow K+1$:\n",
    "$S_{K+1} =\n",
    "\\sum_{k=0}^{K+1} k^\\gamma = \\sum_{k=0}^K k^\\gamma + \\gamma^{K+1} {\\underset{\\text{I.V.}}{=}}\n",
    "\\frac{1-\\gamma^{K+1}}{1-\\gamma} + \\gamma^{K+1} =\n",
    "\\frac{1-\\gamma^{K+1}}{1-\\gamma} + \\frac{(1-\\gamma) \\gamma^{K+1}}{1-\\gamma} =\n",
    "\\frac{1 - \\gamma^{K+1} + \\gamma^{K+1} - \\gamma^{K+2}}{1-\\gamma} =\n",
    "\\frac{1-\\gamma^{K+2}}{1-\\gamma} =\n",
    "\\frac{1-\\gamma^{(K+1)+1}}{1-\\gamma}\\square$\n",
    "\n",
    "# Übung 3.11\n",
    "\n",
    "$\\sum_{k=0}^\\infty k^\\gamma = \\frac{1}{1 - \\gamma}$ für $0 \\leq \\gamma < 1$.\n",
    "\n",
    "## Beweis:\n",
    "\n",
    "$\\sum_{k=0}^\\infty k^\\gamma =\n",
    "\\lim_{K \\to \\infty} S_k =\n",
    "\\lim_{K \\to \\infty} \\frac{1-\\gamma^{K+1}}{1-\\gamma} =\n",
    "\\frac{1}{1-\\gamma} \\lim_{K \\to \\infty} (1-\\gamma^{K+1}) =\n",
    "\\frac{1}{1-\\gamma} (1 - \\lim_{K \\to \\infty} \\gamma^{K+1}) =\n",
    "\\frac{1}{1 - \\gamma}$, da $\\lim_{K \\to \\infty} \\gamma^{K+1} = 0$\n",
    "$\\square$"
   ]
  },
  {
   "cell_type": "code",
   "execution_count": null,
   "metadata": {},
   "outputs": [],
   "source": []
  }
 ],
 "metadata": {
  "kernelspec": {
   "display_name": "Python 3",
   "language": "python",
   "name": "python3"
  },
  "language_info": {
   "codemirror_mode": {
    "name": "ipython",
    "version": 3
   },
   "file_extension": ".py",
   "mimetype": "text/x-python",
   "name": "python",
   "nbconvert_exporter": "python",
   "pygments_lexer": "ipython3",
   "version": "3.6.4"
  }
 },
 "nbformat": 4,
 "nbformat_minor": 2
}
